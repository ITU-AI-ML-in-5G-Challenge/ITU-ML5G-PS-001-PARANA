{
 "cells": [
  {
   "cell_type": "markdown",
   "id": "759ae88f",
   "metadata": {},
   "source": [
    "-----------------\n",
    "### Please run the IPython Widget below. Using the checkboxes, you can:\n",
    "* Download the training, validation and test datasets\n",
    "* Extract all tarfiles\n",
    "* Create the necessary PyTorch files for the training/validation/test datasets. We create 1 file for each datanet sample, resulting in exactly\n",
    "    * ./dataset/converted_train/: <b>120,000</b> .pt files <b>(~29.9 GB)</b> \n",
    "    * ./dataset/converted_val/: <b>3,120</b> .pt files  <b>(~14.0 GB)</b> \n",
    "    * ./dataset/converted_test/: <b>1,560</b> .pt files  <b>(~6.7 GB)</b> \n",
    "* You can select how many processes to use. Default is 4. More processes = faster runtime due to parallelism, but also multiplies the amount of RAM utilized.\n",
    "* Downloaded .gz files are not deleted, free these up manually if you need some space\n",
    "-------------------------------------------------------------"
   ]
  },
  {
   "cell_type": "code",
   "execution_count": 1,
   "id": "8c06365e",
   "metadata": {},
   "outputs": [
    {
     "data": {
      "application/vnd.jupyter.widget-view+json": {
       "model_id": "b198a668c93349518b1e2e5fe99dcd20",
       "version_major": 2,
       "version_minor": 0
      },
      "text/plain": [
       "VBox(children=(HBox(children=(Checkbox(value=False, description='Download dataset'),)), HBox(children=(Checkbo…"
      ]
     },
     "metadata": {},
     "output_type": "display_data"
    }
   ],
   "source": [
    "from convertDataset import process_in_parallel, download_dataset, extract_tarfiles\n",
    "\n",
    "import ipywidgets as widgets\n",
    "cbs = [widgets.Checkbox() for i in range(5)]\n",
    "cbs[0].description=\"Download dataset\"\n",
    "cbs[1].description=\"Extract Tarfiles\"\n",
    "cbs[2].description=\"Generate Pytorch Files - Training\"\n",
    "cbs[3].description=\"Generate Pytorch Files - Validation\"\n",
    "cbs[4].description=\"Generate Pytorch Files - Test\"\n",
    "\n",
    "sl = widgets.IntSlider(\n",
    "    value=4,\n",
    "    min=0,\n",
    "    max=16,\n",
    "    step=1,\n",
    "    style= {'description_width': 'initial'},\n",
    "    layout=widgets.Layout(width='100%',height='80px'),\n",
    "    description='#processes to use (higher = more parallelism, uses up more RAM)',\n",
    "    disabled=False,\n",
    "    continuous_update=False,\n",
    "    orientation='horizontal',\n",
    "    readout=True,\n",
    "    readout_format='d'\n",
    ")\n",
    "\n",
    "pb = widgets.Button(\n",
    "    description='Run',\n",
    "    disabled=False,\n",
    "    button_style='', # 'success', 'info', 'warning', 'danger' or ''\n",
    "    tooltip='Run',\n",
    ")\n",
    "\n",
    "def on_button_clicked(b):\n",
    "    if cbs[0].value:\n",
    "        print(\"Downloading dataset...\")\n",
    "        download_dataset()\n",
    "    if cbs[1].value:\n",
    "        print(\"Extracting Tarfiles...\")\n",
    "        extract_tarfiles()\n",
    "    if cbs[2].value:\n",
    "        print(\"Creating pytorch files (training)...\")\n",
    "        process_in_parallel('train',sl.value)\n",
    "    if cbs[3].value:\n",
    "        print(\"Creating pytorch files (validation)...\")\n",
    "        process_in_parallel('validation',sl.value)\n",
    "    if cbs[4].value:\n",
    "        print(\"Creating pytorch files (test)...\")\n",
    "        process_in_parallel('test',sl.value)\n",
    "\n",
    "\n",
    "pb.on_click(on_button_clicked)\n",
    "\n",
    "ui = widgets.VBox([widgets.HBox([x]) for x in cbs+[sl]] +[pb])\n",
    "\n",
    "display(ui)\n",
    "\n"
   ]
  },
  {
   "cell_type": "code",
   "execution_count": null,
   "id": "69f011ab",
   "metadata": {},
   "outputs": [],
   "source": []
  }
 ],
 "metadata": {
  "kernelspec": {
   "display_name": "Python 3",
   "language": "python",
   "name": "python3"
  },
  "language_info": {
   "codemirror_mode": {
    "name": "ipython",
    "version": 3
   },
   "file_extension": ".py",
   "mimetype": "text/x-python",
   "name": "python",
   "nbconvert_exporter": "python",
   "pygments_lexer": "ipython3",
   "version": "3.9.5"
  }
 },
 "nbformat": 4,
 "nbformat_minor": 5
}
